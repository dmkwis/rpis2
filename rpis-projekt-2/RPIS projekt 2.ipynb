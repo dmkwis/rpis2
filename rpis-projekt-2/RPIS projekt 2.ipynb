{
 "cells": [
  {
   "cell_type": "markdown",
   "metadata": {},
   "source": [
    "**Problem 3b.** In this task we consider a discrete distribution *without a mean* and verify whether we can still estimate the location of its peak by simply computing averages. Consider a discrete variable $X$ with the following distribution: $P(X=k) = \\frac{1}{4|k|(|k|+1)}$ for $k \\neq 0$ and $P(X=0) = \\frac{1}{2}$. \n",
    " * Argue that these formulas indeed describe a discrete distribution.\n",
    " * Show that $X$ does not have a mean.\n",
    " * Plot the function $f(k) = P(X=k)$ for $k \\in [-10,10]$.\n",
    " * Write a function that samples from $X$'s distribution (imaginary bonus points if it is vectorized).\n",
    " * Generate $N=10\\,000$ values $x_1,\\ldots,x_n$ from the distribution.\n",
    " * For $i \\in \\{1,\\ldots,n\\}$ compute $\\bar{x}_i = \\frac{x_1+\\ldots+x_i}{i}$. \n",
    " * Plot the values of $\\bar{x}_i$. Does it look like the series converges? If it is not clear, you can compute several independent\n",
    "   $N$-means and plot a histogram, then increase $N$ significantly and see how it changes.\n",
    " * For $i \\in \\{1,\\ldots,n\\}$ compute $\\hat{x}_i = \\textrm{ median of }\\{x_1,\\ldots,x_i\\}$. \n",
    "   You do not need to do it in a clever way (like in ASD lab).\n",
    " * Plot the values of $\\hat{x}_i$. Does it look like the series converges? \n",
    " * A more interesting situation would be the one where you a given a distribution like $X+c$ for unknown $c$, and \n",
    "   want to figure out what $c$ is, i.e. find the center of the distribution. Both methods above attempt to\n",
    "   locate the center - which works better?"
   ]
  },
  {
   "cell_type": "markdown",
   "metadata": {},
   "source": [
    "Solutions."
   ]
  },
  {
   "cell_type": "markdown",
   "metadata": {},
   "source": [
    "* These formulas describe a discrete distribution, because $\\sum_{k = 1}^{\\infty} \\frac{1}{4 k (k + 1)} = \\frac{1}{4}$, because of that we can easily see that $\\sum_{k = -\\infty}^{\\infty} P(X = k) = \\frac{1}{4} + \\frac{1}{2} + \\frac{1}{4} = 1$ and this completes the proof.\n",
    "* Mean (expected value) of $X$ doesn't exist, because by definition $E[X] = E[X^+] + E[X^-] + E[X=0]$, and by divergence of $\\zeta(1)$ we can see that $E[X]$ is not well defined.\n",
    "* Plotting graph $f(k) = P(X = k)$ for $k \\in [-10, 10]$:"
   ]
  },
  {
   "cell_type": "code",
   "execution_count": 2,
   "metadata": {},
   "outputs": [
    {
     "data": {
      "image/png": "[encoded data removed]",
      "text/plain": [
       "<Figure size 432x288 with 1 Axes>"
      ]
     },
     "metadata": {},
     "output_type": "display_data"
    }
   ],
   "source": [
    "import numpy as np\n",
    "import matplotlib.pyplot as plt\n",
    "def f(k):\n",
    "    if k == 0:\n",
    "        return 1/2\n",
    "    else:\n",
    "        return (1/(4*abs(k)*(abs(k) + 1)))\n",
    "\n",
    "arguments = np.arange(-10, 11, 1)\n",
    "value = np.array([f(x) for x in arguments])\n",
    "plt.plot(arguments, value,'bo')\n",
    "plt.axis([-11, 11, -0.1, 0.6])\n",
    "plt.show()"
   ]
  },
  {
   "cell_type": "markdown",
   "metadata": {},
   "source": [
    "* First we'd like to calculate $F_{X}(t)$, then we can easily sample from $X$ with $U \\sim unif(0, 1)$. If $U \\in [\\frac{1}{4}, \\frac{3}{4}]$ we can assume we sampled $0$ (with probability $\\frac{1}{2}$, because $\\frac{\\mu([\\frac{1}{4}, \\frac{3}{4}])}{\\mu([0, 1])} = \\frac{1}{2}$). Then if $U > \\frac{3}{4}$ we can assume that the result of our sampling will be a positive integer, else if $U < \\frac{1}{4}$ we can assume, that the result will be negative integer. We can calculate, that $\\sum_{k=1}^{n} \\frac{1}{4k(k+1)} = \\frac{n}{4n + 4}$ and set $U := U - \\frac{3}{4}$ (So now $U \\in (0, \\frac{1}{4}]$). We can try to squeeze $U$ like this: $\\frac{n}{4n + 4} \\le U \\le \\frac{n+1}{4(n+1) + 4} = \\frac{n+1}{4n + 8}$. By performing some arithmetic operations, we can transform this inequality into: $n \\le \\frac{4U}{1-4U} \\le n + 1$, and by simply taking ceil of the expression in the middle we can get our sample. We can perform simillar opertions when $U < \\frac{1}{4}$, just by using symmetry ($X$ is an even function) we get the result that our sample is equal to the floor of expression $\\frac{4U}{4U - 1}$. If we get $U = 0$ or $U = 1$ we can easily ignore this and generate random number again (no worries, because $\\mu(\\{0, 1\\}) << \\mu([0, 1])$, so it'll take basically constant amout of repeated generations). Python's np.random.uniform(last, end) draws from range [last, end), but $\\{$end$\\}$ is a set of measure zero."
   ]
  },
  {
   "cell_type": "code",
   "execution_count": 6,
   "metadata": {},
   "outputs": [
    {
     "data": {
      "image/png": "[encoded data removed]",
      "text/plain": [
       "<Figure size 432x288 with 1 Axes>"
      ]
     },
     "metadata": {},
     "output_type": "display_data"
    }
   ],
   "source": [
    "#samples from X with given U or randomly with randomly generated U\n",
    "def single_sample(U = 0):\n",
    "    while U <= 0 or U >= 1:\n",
    "        U = np.random.uniform(0, 1)\n",
    "    if (U > 3./4.):\n",
    "        U = U - 0.75\n",
    "        return int(np.ceil((4*U)/(1-4*U)))\n",
    "    elif (U < 1./4.):\n",
    "        return int(np.floor((4*U)/(4*U - 1)))\n",
    "    else:\n",
    "        return 0\n",
    "    \n",
    "def generate_samples(num):\n",
    "    samples = np.random.uniform(0, 1, num)\n",
    "    samples = np.vectorize(single_sample)(samples)\n",
    "    return samples\n",
    "\n",
    "siz = 10000\n",
    "samples = generate_samples(siz)\n",
    "dic = dict()\n",
    "\n",
    "for x in samples:\n",
    "    dic[x] = 0.\n",
    "    \n",
    "for x in samples:\n",
    "    dic[x] = dic[x] + 1.\n",
    "\n",
    "for k in dic.keys():\n",
    "    dic[k] = dic[k] / siz\n",
    "    \n",
    "plt.plot(dic.keys(), dic.values(), 'bo')\n",
    "plt.axis([-11, 11, -0.1, 0.6])\n",
    "plt.show()"
   ]
  },
  {
   "cell_type": "markdown",
   "metadata": {},
   "source": [
    "* Computing $\\bar{x}_i$ and plotting them:"
   ]
  },
  {
   "cell_type": "code",
   "execution_count": 7,
   "metadata": {},
   "outputs": [
    {
     "data": {
      "image/png": "[encoded data removed]",
      "text/plain": [
       "<Figure size 432x288 with 1 Axes>"
      ]
     },
     "metadata": {},
     "output_type": "display_data"
    }
   ],
   "source": [
    "partial_sums = np.cumsum(samples)\n",
    "\n",
    "x_bar = np.zeros(siz)\n",
    "\n",
    "for i in range(0, siz):\n",
    "    x_bar[i] = partial_sums[i]/(i+1)\n",
    "\n",
    "plt.plot(range(0, siz), np.zeros(siz))\n",
    "plt.plot(range(0, siz), x_bar, 'bo')\n",
    "plt.axis([0, siz, -10, 10])\n",
    "plt.show()"
   ]
  },
  {
   "cell_type": "markdown",
   "metadata": {},
   "source": [
    "* For me it doesn't look like the series would converge (Especially, because $x_i \\sim \\frac{i \\cdot E[X]}{i} = E[X]$ and we proved that $E[X]$ is not well defined).\n",
    "* Plotting $\\hat{x}_i$:"
   ]
  },
  {
   "cell_type": "code",
   "execution_count": 8,
   "metadata": {},
   "outputs": [
    {
     "data": {
      "image/png": "[encoded data removed]",
      "text/plain": [
       "<Figure size 432x288 with 1 Axes>"
      ]
     },
     "metadata": {},
     "output_type": "display_data"
    }
   ],
   "source": [
    "x_hat = np.zeros(siz)\n",
    "for i in range(0, siz):\n",
    "    x_hat[i] = np.median(samples[:i+1])\n",
    "    \n",
    "plt.plot(range(0, siz), np.zeros(siz))\n",
    "plt.plot(range(0, siz), x_hat, 'bo')\n",
    "plt.axis([0, siz, -10, 10])\n",
    "plt.show()"
   ]
  },
  {
   "cell_type": "markdown",
   "metadata": {},
   "source": [
    "* Now it looks like series converges. It makes sense, because about half of samples are equal to zero, and the rest of the elements are approximately evenly spread between being positive and negative (So the positive $\\approx \\frac{1}{4}$ cancells with negative $\\approx \\frac{1}{4}$ and there are basically only zeroes left)."
   ]
  },
  {
   "cell_type": "markdown",
   "metadata": {},
   "source": [
    "* Let's put $Y = X + c$, for randomly generated $c$ and solve last task:"
   ]
  },
  {
   "cell_type": "code",
   "execution_count": 9,
   "metadata": {
    "scrolled": true
   },
   "outputs": [
    {
     "data": {
      "image/png": "[encoded data removed]",
      "text/plain": [
       "<Figure size 432x288 with 1 Axes>"
      ]
     },
     "metadata": {},
     "output_type": "display_data"
    },
    {
     "data": {
      "image/png": "[encoded data removed]",
      "text/plain": [
       "<Figure size 432x288 with 1 Axes>"
      ]
     },
     "metadata": {},
     "output_type": "display_data"
    }
   ],
   "source": [
    "c = np.random.uniform(-10, 10)\n",
    "\n",
    "new_siz = siz\n",
    "\n",
    "def new_single_sample(U = 0):\n",
    "    return single_sample(U) + c\n",
    "\n",
    "def new_generate_samples(num):\n",
    "    samples = np.random.uniform(0, 1, num)\n",
    "    samples = np.vectorize(new_single_sample)(samples)\n",
    "    return samples\n",
    "\n",
    "\n",
    "new_samples = new_generate_samples(new_siz)\n",
    "\n",
    "new_partial_sums = np.cumsum(new_samples)\n",
    "\n",
    "new_x_bar = np.zeros(siz)\n",
    "\n",
    "for i in range(0, siz):\n",
    "    new_x_bar[i] = new_partial_sums[i]/(i+1)\n",
    "\n",
    "plt.plot(range(0, siz), np.full(siz, c))\n",
    "plt.plot(range(0, siz), new_x_bar, 'bo')\n",
    "plt.axis([0, siz, -7.5 + c, 7.5 + c])\n",
    "plt.show()\n",
    "\n",
    "new_x_hat = np.zeros(siz)\n",
    "\n",
    "for i in range(0, siz):\n",
    "    new_x_hat[i] = np.median(new_samples[:i+1])\n",
    "    \n",
    "plt.plot(range(0, siz), np.full(siz, c))\n",
    "plt.plot(range(0, siz), new_x_hat, 'bo')\n",
    "plt.axis([0, siz, -7.5 + c, 7.5 + c])\n",
    "plt.show()"
   ]
  },
  {
   "cell_type": "markdown",
   "metadata": {},
   "source": [
    "* As expected second method finds $c$ in a much better way with similar reasoning as before."
   ]
  },
  {
   "cell_type": "code",
   "execution_count": null,
   "metadata": {},
   "outputs": [],
   "source": []
  }
 ],
 "metadata": {
  "kernelspec": {
   "display_name": "Python 3",
   "language": "python",
   "name": "python3"
  },
  "language_info": {
   "codemirror_mode": {
    "name": "ipython",
    "version": 3
   },
   "file_extension": ".py",
   "mimetype": "text/x-python",
   "name": "python",
   "nbconvert_exporter": "python",
   "pygments_lexer": "ipython3",
   "version": "3.6.9"
  }
 },
 "nbformat": 4,
 "nbformat_minor": 2
}
